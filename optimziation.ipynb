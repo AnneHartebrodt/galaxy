{
 "cells": [
  {
   "cell_type": "code",
   "execution_count": 1,
   "id": "5ec752d9-bb94-4c87-8f48-fb24bc0919f3",
   "metadata": {},
   "outputs": [],
   "source": [
    "import gurobipy as gu\n",
    "from gurobipy import GRB\n",
    "import pandas as pd\n",
    "from datetime import datetime\n",
    "import numpy as np\n",
    "import os.path as op\n",
    "import os\n",
    "\n",
    "directory = '/data/bionets/datasets/galaxy/'\n",
    "configuration_dir = op.join(directory, 'new_configurations')\n",
    "os.makedirs(configuration_dir, exist_ok = True)\n"
   ]
  },
  {
   "cell_type": "code",
   "execution_count": 2,
   "id": "0d0806ae-e695-434a-af9f-9d8155b51ee8",
   "metadata": {},
   "outputs": [],
   "source": [
    "\n",
    "jan2021 = pd.read_csv('/data/bionets/ib27yhof/galaxy-temp-data/ci_test_2020_01.csv')\n",
    "jan2021['run_min'] = jan2021.tool_runtime_in_seconds/60\n",
    "jan2021['cpu_percent'] = jan2021.tool_cpu_usage_in_nanoseconds/(jan2021.tool_runtime_in_seconds*10**9)\n"
   ]
  },
  {
   "cell_type": "code",
   "execution_count": 3,
   "id": "8683a6b3-d7d4-4751-8595-647b315ce59e",
   "metadata": {},
   "outputs": [],
   "source": [
    "\n",
    "sub = jan2021[jan2021.job_created_at<='2020-01-02']\n",
    "sub = sub[sub.job_ended_at<='2020-01-02']\n",
    "\n",
    "sub['job_started_to_run_at'] =pd.to_datetime(sub['job_started_to_run_at'])\n",
    "sub['job_ended_at'] =pd.to_datetime(sub['job_ended_at'])\n"
   ]
  },
  {
   "cell_type": "code",
   "execution_count": 4,
   "id": "a3ac2882-e47b-4e3f-a591-08c25d1d6765",
   "metadata": {},
   "outputs": [],
   "source": [
    "computers = pd.read_csv('/data/bionets/datasets/galaxy/hostname-config-full.csv')\n",
    "ul = np.where(['upload' not in x for x in computers.hostname])[0]\n",
    "computers = computers.iloc[ul,:]\n",
    "computers = computers[computers.hostname.isin(sub.hostname)]\n",
    "computers = computers.reset_index()\n",
    "computers['host_number'] = range(computers.shape[0])\n",
    "max_cpu_per_machine = {}\n",
    "max_ram_per_machine = {}\n",
    "\n",
    "for c in range(len(computers.hostname)):\n",
    "    max_ram_per_machine[computers.hostname[c]] = int(computers.approx_memory[c])\n",
    "    max_cpu_per_machine[computers.hostname[c]] = int(computers.approx_cores[c])"
   ]
  },
  {
   "cell_type": "code",
   "execution_count": 121,
   "id": "4470d67c-c50d-46cf-a464-f24c3bb74620",
   "metadata": {},
   "outputs": [],
   "source": []
  },
  {
   "cell_type": "code",
   "execution_count": 122,
   "id": "fdb2387c-b8b0-421b-8f5d-8b7b2a1208cf",
   "metadata": {},
   "outputs": [],
   "source": []
  },
  {
   "cell_type": "code",
   "execution_count": 123,
   "id": "42fa57c5-71a0-46c1-966e-841feee3b5c5",
   "metadata": {},
   "outputs": [],
   "source": []
  },
  {
   "cell_type": "code",
   "execution_count": 124,
   "id": "ae5039d3-5a9b-48e7-905f-341588f134ea",
   "metadata": {},
   "outputs": [],
   "source": []
  },
  {
   "cell_type": "code",
   "execution_count": 5,
   "id": "cec02931-e3a9-447e-bc4f-a707e3258cc0",
   "metadata": {},
   "outputs": [],
   "source": [
    "sub = sub[sub.hostname.isin(computers.hostname)]\n",
    "sub = sub.merge(computers.loc[:,['hostname', 'host_number']], on = 'hostname')"
   ]
  },
  {
   "cell_type": "code",
   "execution_count": 11,
   "id": "47d6cc40-ef99-424c-a0c7-423e76d6c425",
   "metadata": {},
   "outputs": [],
   "source": [
    "ntimeperiods = 24*60\n",
    "job_delay = 12*60\n",
    "# the job data is in seconds.\n",
    "min_timeslots = 1\n",
    "sec_timslots = 60\n",
    "timeslot_factor = min_timeslots*sec_timslots\n",
    "#carbon intensity is reported in 15 minute intervals\n",
    "##CAUTION. Not \n",
    "ci_repeat_factor = 15/(min_timeslots*(sec_timslots/60))"
   ]
  },
  {
   "cell_type": "code",
   "execution_count": null,
   "id": "8b4ee19a-25ad-4901-9ddf-e87822f29548",
   "metadata": {},
   "outputs": [],
   "source": [
    "ci_repeat_factor"
   ]
  },
  {
   "cell_type": "code",
   "execution_count": 8,
   "id": "c8416127-3d37-43cd-940a-b15db1cabb98",
   "metadata": {},
   "outputs": [
    {
     "ename": "NameError",
     "evalue": "name 'dd' is not defined",
     "output_type": "error",
     "traceback": [
      "\u001b[0;31m---------------------------------------------------------------------------\u001b[0m",
      "\u001b[0;31mNameError\u001b[0m                                 Traceback (most recent call last)",
      "Cell \u001b[0;32mIn[8], line 1\u001b[0m\n\u001b[0;32m----> 1\u001b[0m \u001b[38;5;28mlen\u001b[39m(\u001b[43mdd\u001b[49m)\n",
      "\u001b[0;31mNameError\u001b[0m: name 'dd' is not defined"
     ]
    }
   ],
   "source": [
    "len(dd)"
   ]
  },
  {
   "cell_type": "code",
   "execution_count": 12,
   "id": "646708ae-5798-40f8-8ac4-319b0e1ad846",
   "metadata": {},
   "outputs": [],
   "source": [
    "\n",
    "\n",
    "dd = [int(np.floor(pd.Timedelta(pd.to_datetime(x)- pd.to_datetime(sub.job_started_to_run_at[0])).total_seconds()/timeslot_factor)) for x in sub.job_started_to_run_at]\n",
    "sub[\"arrival_time\"] = dd\n",
    "\n",
    "# list of machines\n",
    "nmachines = len(pd.unique(sub.hostname))\n",
    "machines = computers.hostname.tolist()\n",
    "njobs = len(pd.unique(sub.job_id))\n",
    "\n",
    "# variables indexed by job\n",
    "average_load = list(sub.cpu_percent)\n",
    "requested_cpus = list(sub.tool_requested_cores)\n",
    "requested_memory = list(sub.tool_requested_memory)\n",
    "\n",
    "# variables indexed by timeslots\n",
    "job_durations = list(sub.tool_runtime_in_seconds)\n",
    "job_duration_time_slots = [int(np.ceil(j/timeslot_factor)) for j in job_durations]\n",
    "sub['job_duration'] = job_duration_time_slots\n",
    "job_arrival_times = list(sub.arrival_time)\n",
    "allowed_starting_times = [[int(job_arrival_times[j]+i) for i in range(job_delay)] for j in range(njobs)]\n",
    "allowed_running_times = [[int(job_arrival_times[j]+i) for i in range(job_delay)] + [allowed_starting_times[j][-1]+d for  d in range(1,job_duration_time_slots[j])] for j in range(njobs)]\n",
    "\n",
    "carbon_intensity = pd.read_csv('/data/bionets/og86asub/galaxy_optimization/DE-actual-15.csv')\n",
    "carbon_intensity = carbon_intensity.loc[:, ['startTime', 'ci1', 'ci2', 'ci3', 'ci4', 'ci5']]\n",
    "carbon_intensity['start_timestamp'] = carbon_intensity['startTime'].apply(lambda x: datetime.strptime(str(x), '%Y%m%d%H%M'))\n",
    "carbon_intensity['start_timestamp'] = pd.to_datetime(carbon_intensity['start_timestamp'])\n",
    "carbon_intensity = carbon_intensity.loc[np.repeat(carbon_intensity.index, ci_repeat_factor)].reset_index(drop=True)\n",
    "carbon_intensity = carbon_intensity[carbon_intensity.start_timestamp>=(pd.to_datetime(sub.job_started_to_run_at.min())-pd.Timedelta(minutes = 15))]\n",
    "carbon_intensity_per_timeslot = list(carbon_intensity.ci3)\n",
    "carbon_intensity = carbon_intensity[carbon_intensity.start_timestamp<=sub.job_ended_at.max()]\n"
   ]
  },
  {
   "cell_type": "code",
   "execution_count": 14,
   "id": "5cddf0e9-b0ae-437b-9e48-d5091cc5ba61",
   "metadata": {},
   "outputs": [],
   "source": [
    "sub = sub.reset_index()"
   ]
  },
  {
   "cell_type": "code",
   "execution_count": 13,
   "id": "02c7d784-985e-4fef-9d1e-4be334a07be0",
   "metadata": {},
   "outputs": [
    {
     "name": "stdout",
     "output_type": "stream",
     "text": [
      "Set parameter TimeLimit to value 7200\n"
     ]
    }
   ],
   "source": [
    "# Models\n",
    "m = gu.Model('galaxy')\n",
    "m.setParam('TimeLimit', 120*60)\n",
    "# add a binary variable which tells us if job has started on machine M\n",
    "x = m.addVars(\n",
    "    [\n",
    "    (j, nm, a)\n",
    "    for j in range(njobs)\n",
    "    for nm in range(nmachines)\n",
    "    for a in allowed_starting_times[j]\n",
    "    ],\n",
    "    vtype=GRB.BINARY, name=\"x\"\n",
    ")\n",
    "\n",
    "y = m.addVars(\n",
    "    [\n",
    "    (j, nm, a)\n",
    "    for j in range(njobs)\n",
    "    for nm in range(nmachines)\n",
    "    for a in allowed_running_times[j]\n",
    "    ],\n",
    "    vtype=GRB.BINARY, name=\"y\",\n",
    ")"
   ]
  },
  {
   "cell_type": "code",
   "execution_count": null,
   "id": "ba858657-9ba0-4b8f-90cb-8834475930c0",
   "metadata": {},
   "outputs": [],
   "source": [
    "y[(0,0,t)]"
   ]
  },
  {
   "cell_type": "code",
   "execution_count": 15,
   "id": "4e5d4421-5f4b-45cb-afa3-7f500bbc8cdb",
   "metadata": {},
   "outputs": [
    {
     "name": "stdout",
     "output_type": "stream",
     "text": [
      "Adding CPU and RAM constraints\n"
     ]
    }
   ],
   "source": [
    "print('Adding CPU and RAM constraints')\n",
    "## Do not exceed max capacity of servers\n",
    "## (5)\n",
    "yk = gu.tuplelist(y.keys())\n",
    "max_cpu = m.addConstrs(gu.quicksum(requested_cpus[j]*y[j,m,t]  for j,m, t in yk.select('*', m, t)) <= max_cpu_per_machine[machines[m]] for m in range(nmachines) for t in range(ntimeperiods))\n",
    "\n",
    "## max ram per machine cannot be exceeded\n",
    "# (6)\n",
    "max_ram = m.addConstrs(gu.quicksum(requested_memory[j]*y[j,m,t]  for j,m, t in yk.select('*', m, t) ) <= max_ram_per_machine[machines[m]] for m in range(nmachines) for  t in range(ntimeperiods))"
   ]
  },
  {
   "cell_type": "code",
   "execution_count": 90,
   "id": "66511532-a4bd-4032-a5eb-a7cbffacf7d1",
   "metadata": {},
   "outputs": [
    {
     "ename": "KeyError",
     "evalue": "-1",
     "output_type": "error",
     "traceback": [
      "\u001b[0;31m---------------------------------------------------------------------------\u001b[0m",
      "\u001b[0;31mKeyError\u001b[0m                                  Traceback (most recent call last)",
      "Cell \u001b[0;32mIn[90], line 1\u001b[0m\n\u001b[0;32m----> 1\u001b[0m \u001b[43my\u001b[49m\u001b[43m[\u001b[49m\u001b[38;5;241;43m-\u001b[39;49m\u001b[38;5;241;43m1\u001b[39;49m\u001b[43m]\u001b[49m\n",
      "\u001b[0;31mKeyError\u001b[0m: -1"
     ]
    }
   ],
   "source": []
  },
  {
   "cell_type": "code",
   "execution_count": 16,
   "id": "31d42a02-fcd0-4882-ac14-e65f8ccd2cac",
   "metadata": {},
   "outputs": [
    {
     "name": "stdout",
     "output_type": "stream",
     "text": [
      "Defining objective\n"
     ]
    }
   ],
   "source": [
    "## (2)\n",
    "for j in range(njobs):\n",
    "    jobstart = m.addConstr(gu.quicksum(x.select(j, '*', '*')) == 1)\n",
    "\n",
    "# (3)\n",
    "for j, i, tp in x.keys():\n",
    "    for t in range(job_duration_time_slots[j]):\n",
    "        tt = tp+t\n",
    "        if (j,i,tt) in y and (j, i, tp) in x:\n",
    "            timedelay = m.addConstr(y[j,i,tt]>=x[j,i,tp])\n",
    "\n",
    "print('Defining objective')\n",
    "#(1)\n",
    "carbon_emission = gu.quicksum(carbon_intensity_per_timeslot[t]*average_load[j]*y[j,i, t] for j,i,t in y.keys() )\n",
    "\n",
    "m.setObjective(carbon_emission, GRB.MINIMIZE)"
   ]
  },
  {
   "cell_type": "code",
   "execution_count": 17,
   "id": "1559dfc9-288b-419c-97ce-c358cf623dae",
   "metadata": {},
   "outputs": [],
   "source": [
    "for j in range(njobs):\n",
    "    for nm in range(nmachines):\n",
    "        for a in allowed_starting_times[j]:\n",
    "            x[(j, nm, a)].Start = 0"
   ]
  },
  {
   "cell_type": "code",
   "execution_count": null,
   "id": "b9fcabb6-1e53-43b8-8d2c-9e224132b87f",
   "metadata": {},
   "outputs": [],
   "source": [
    "for j in range(njobs):\n",
    "    for nm in range(nmachines):\n",
    "        for a in allowed_running_times[j]:\n",
    "            y[(j, nm, a)].Start = 0"
   ]
  },
  {
   "cell_type": "code",
   "execution_count": 22,
   "id": "b2740e32-0bd4-4459-8fd5-14e05f36f7d4",
   "metadata": {},
   "outputs": [],
   "source": [
    "sub['job_number'] = range(sub.shape[0])\n",
    "sub = sub.reset_index()\n"
   ]
  },
  {
   "cell_type": "code",
   "execution_count": 42,
   "id": "a6f584c0-de65-4812-946f-da4062c613b2",
   "metadata": {},
   "outputs": [],
   "source": [
    "\n",
    "for ix, row in sub.iterrows():\n",
    "\n",
    "    x[(row['job_number'], row['host_number'], row['arrival_time'])].Start = 1.0\n",
    "    #x[(row['job_number'], row['host_number'], row['arrival_time'])].lb = 1.0\n",
    "    #x[(row['job_number'], row['host_number'], row['arrival_time'])].ub = 1.0\n",
    "    #print(x[(row['job_number'], row['host_number'], row['arrival_time'])].Start)\n",
    "    for i in range(row['job_duration']):\n",
    "        at = int(row['arrival_time']+i)\n",
    "        \n",
    "        y[(row['job_number'], row['host_number'],at)].Start = 1.0\n",
    "        #y[(row['job_number'], row['host_number'],at)].ub = 1.0\n",
    "        #y[(row['job_number'], row['host_number'],at)].lb = 1.0\n",
    "\n",
    "#for (j, nm, a), value in initial_y.items():\n",
    "#    y[j, nm, a].start = value"
   ]
  },
  {
   "cell_type": "code",
   "execution_count": 46,
   "id": "9fe7589b-7da9-4543-a20e-ac24425d0a15",
   "metadata": {},
   "outputs": [],
   "source": [
    "m.update()"
   ]
  },
  {
   "cell_type": "code",
   "execution_count": null,
   "id": "d3e31c2b-b9fa-4c3b-adb7-70e5814dd77d",
   "metadata": {},
   "outputs": [],
   "source": []
  },
  {
   "cell_type": "code",
   "execution_count": 60,
   "id": "26796f33-23d7-4daa-8878-4cffb80fb915",
   "metadata": {},
   "outputs": [
    {
     "data": {
      "text/html": [
       "<div>\n",
       "<style scoped>\n",
       "    .dataframe tbody tr th:only-of-type {\n",
       "        vertical-align: middle;\n",
       "    }\n",
       "\n",
       "    .dataframe tbody tr th {\n",
       "        vertical-align: top;\n",
       "    }\n",
       "\n",
       "    .dataframe thead th {\n",
       "        text-align: right;\n",
       "    }\n",
       "</style>\n",
       "<table border=\"1\" class=\"dataframe\">\n",
       "  <thead>\n",
       "    <tr style=\"text-align: right;\">\n",
       "      <th></th>\n",
       "      <th>tool_requested_cores</th>\n",
       "      <th>job_number</th>\n",
       "      <th>host_number</th>\n",
       "      <th>job_duration</th>\n",
       "      <th>arrival_time</th>\n",
       "    </tr>\n",
       "  </thead>\n",
       "  <tbody>\n",
       "    <tr>\n",
       "      <th>394</th>\n",
       "      <td>10.0</td>\n",
       "      <td>394</td>\n",
       "      <td>40</td>\n",
       "      <td>4</td>\n",
       "      <td>1417</td>\n",
       "    </tr>\n",
       "    <tr>\n",
       "      <th>402</th>\n",
       "      <td>10.0</td>\n",
       "      <td>402</td>\n",
       "      <td>40</td>\n",
       "      <td>1</td>\n",
       "      <td>1422</td>\n",
       "    </tr>\n",
       "    <tr>\n",
       "      <th>498</th>\n",
       "      <td>1.0</td>\n",
       "      <td>498</td>\n",
       "      <td>40</td>\n",
       "      <td>1</td>\n",
       "      <td>1425</td>\n",
       "    </tr>\n",
       "    <tr>\n",
       "      <th>501</th>\n",
       "      <td>10.0</td>\n",
       "      <td>501</td>\n",
       "      <td>40</td>\n",
       "      <td>4</td>\n",
       "      <td>1419</td>\n",
       "    </tr>\n",
       "    <tr>\n",
       "      <th>502</th>\n",
       "      <td>10.0</td>\n",
       "      <td>502</td>\n",
       "      <td>40</td>\n",
       "      <td>4</td>\n",
       "      <td>1419</td>\n",
       "    </tr>\n",
       "    <tr>\n",
       "      <th>506</th>\n",
       "      <td>10.0</td>\n",
       "      <td>506</td>\n",
       "      <td>40</td>\n",
       "      <td>3</td>\n",
       "      <td>1426</td>\n",
       "    </tr>\n",
       "    <tr>\n",
       "      <th>508</th>\n",
       "      <td>10.0</td>\n",
       "      <td>508</td>\n",
       "      <td>40</td>\n",
       "      <td>1</td>\n",
       "      <td>1428</td>\n",
       "    </tr>\n",
       "    <tr>\n",
       "      <th>510</th>\n",
       "      <td>10.0</td>\n",
       "      <td>510</td>\n",
       "      <td>40</td>\n",
       "      <td>1</td>\n",
       "      <td>1422</td>\n",
       "    </tr>\n",
       "    <tr>\n",
       "      <th>512</th>\n",
       "      <td>10.0</td>\n",
       "      <td>512</td>\n",
       "      <td>40</td>\n",
       "      <td>1</td>\n",
       "      <td>1423</td>\n",
       "    </tr>\n",
       "    <tr>\n",
       "      <th>514</th>\n",
       "      <td>10.0</td>\n",
       "      <td>514</td>\n",
       "      <td>40</td>\n",
       "      <td>1</td>\n",
       "      <td>1428</td>\n",
       "    </tr>\n",
       "    <tr>\n",
       "      <th>533</th>\n",
       "      <td>10.0</td>\n",
       "      <td>533</td>\n",
       "      <td>40</td>\n",
       "      <td>3</td>\n",
       "      <td>1423</td>\n",
       "    </tr>\n",
       "    <tr>\n",
       "      <th>535</th>\n",
       "      <td>10.0</td>\n",
       "      <td>535</td>\n",
       "      <td>40</td>\n",
       "      <td>3</td>\n",
       "      <td>1422</td>\n",
       "    </tr>\n",
       "    <tr>\n",
       "      <th>537</th>\n",
       "      <td>10.0</td>\n",
       "      <td>537</td>\n",
       "      <td>40</td>\n",
       "      <td>4</td>\n",
       "      <td>1418</td>\n",
       "    </tr>\n",
       "    <tr>\n",
       "      <th>542</th>\n",
       "      <td>10.0</td>\n",
       "      <td>542</td>\n",
       "      <td>40</td>\n",
       "      <td>1</td>\n",
       "      <td>1427</td>\n",
       "    </tr>\n",
       "    <tr>\n",
       "      <th>543</th>\n",
       "      <td>10.0</td>\n",
       "      <td>543</td>\n",
       "      <td>40</td>\n",
       "      <td>1</td>\n",
       "      <td>1424</td>\n",
       "    </tr>\n",
       "    <tr>\n",
       "      <th>544</th>\n",
       "      <td>10.0</td>\n",
       "      <td>544</td>\n",
       "      <td>40</td>\n",
       "      <td>1</td>\n",
       "      <td>1422</td>\n",
       "    </tr>\n",
       "    <tr>\n",
       "      <th>558</th>\n",
       "      <td>1.0</td>\n",
       "      <td>558</td>\n",
       "      <td>40</td>\n",
       "      <td>3</td>\n",
       "      <td>1424</td>\n",
       "    </tr>\n",
       "    <tr>\n",
       "      <th>560</th>\n",
       "      <td>1.0</td>\n",
       "      <td>560</td>\n",
       "      <td>40</td>\n",
       "      <td>3</td>\n",
       "      <td>1425</td>\n",
       "    </tr>\n",
       "    <tr>\n",
       "      <th>564</th>\n",
       "      <td>10.0</td>\n",
       "      <td>564</td>\n",
       "      <td>40</td>\n",
       "      <td>5</td>\n",
       "      <td>1428</td>\n",
       "    </tr>\n",
       "    <tr>\n",
       "      <th>566</th>\n",
       "      <td>10.0</td>\n",
       "      <td>566</td>\n",
       "      <td>40</td>\n",
       "      <td>1</td>\n",
       "      <td>1433</td>\n",
       "    </tr>\n",
       "    <tr>\n",
       "      <th>591</th>\n",
       "      <td>1.0</td>\n",
       "      <td>591</td>\n",
       "      <td>40</td>\n",
       "      <td>6</td>\n",
       "      <td>1422</td>\n",
       "    </tr>\n",
       "  </tbody>\n",
       "</table>\n",
       "</div>"
      ],
      "text/plain": [
       "     tool_requested_cores  job_number  host_number  job_duration  arrival_time\n",
       "394                  10.0         394           40             4          1417\n",
       "402                  10.0         402           40             1          1422\n",
       "498                   1.0         498           40             1          1425\n",
       "501                  10.0         501           40             4          1419\n",
       "502                  10.0         502           40             4          1419\n",
       "506                  10.0         506           40             3          1426\n",
       "508                  10.0         508           40             1          1428\n",
       "510                  10.0         510           40             1          1422\n",
       "512                  10.0         512           40             1          1423\n",
       "514                  10.0         514           40             1          1428\n",
       "533                  10.0         533           40             3          1423\n",
       "535                  10.0         535           40             3          1422\n",
       "537                  10.0         537           40             4          1418\n",
       "542                  10.0         542           40             1          1427\n",
       "543                  10.0         543           40             1          1424\n",
       "544                  10.0         544           40             1          1422\n",
       "558                   1.0         558           40             3          1424\n",
       "560                   1.0         560           40             3          1425\n",
       "564                  10.0         564           40             5          1428\n",
       "566                  10.0         566           40             1          1433\n",
       "591                   1.0         591           40             6          1422"
      ]
     },
     "execution_count": 60,
     "metadata": {},
     "output_type": "execute_result"
    }
   ],
   "source": [
    "sub.loc[sub['host_number']==40, ['tool_requested_cores', 'job_number', 'host_number', 'job_duration', 'arrival_time']]"
   ]
  },
  {
   "cell_type": "code",
   "execution_count": 55,
   "id": "5ab573e8-dfae-49c9-b2fc-17730b28d607",
   "metadata": {},
   "outputs": [
    {
     "name": "stdout",
     "output_type": "stream",
     "text": [
      "y[71,40,1422] + y[72,40,1422] + 10.0 y[205,40,1422] + y[252,40,1422] + y[269,40,1422] + y[294,40,1422] + y[306,40,1422] + y[351,40,1422] + y[352,40,1422] + 8.0 y[357,40,1422] + y[367,40,1422] + y[374,40,1422] + y[375,40,1422] + y[376,40,1422] + y[377,40,1422] + y[378,40,1422] + y[386,40,1422] + 10.0 y[394,40,1422] + 10.0 y[402,40,1422] + 10.0 y[406,40,1422] + 10.0 y[407,40,1422] + 10.0 y[408,40,1422] + 10.0 y[409,40,1422] + y[433,40,1422] + y[440,40,1422] + y[442,40,1422] + y[443,40,1422] + y[445,40,1422] + 10.0 y[448,40,1422] + 10.0 y[450,40,1422] + 10.0 y[451,40,1422] + 10.0 y[452,40,1422] + 10.0 y[453,40,1422] + 10.0 y[454,40,1422] + 10.0 y[455,40,1422] + 10.0 y[456,40,1422] + 10.0 y[458,40,1422] + 10.0 y[459,40,1422] + 10.0 y[460,40,1422] + 10.0 y[462,40,1422] + 10.0 y[463,40,1422] + y[472,40,1422] + y[473,40,1422] + y[474,40,1422] + y[475,40,1422] + y[476,40,1422] + y[477,40,1422] + y[478,40,1422] + y[479,40,1422] + y[480,40,1422] + 8.0 y[481,40,1422] + y[482,40,1422] + y[483,40,1422] + y[484,40,1422] + y[485,40,1422] + y[486,40,1422] + y[487,40,1422] + y[488,40,1422] + y[489,40,1422] + y[490,40,1422] + y[491,40,1422] + y[492,40,1422] + y[493,40,1422] + y[494,40,1422] + y[495,40,1422] + y[496,40,1422] + y[497,40,1422] + y[499,40,1422] + 10.0 y[501,40,1422] + 10.0 y[502,40,1422] + 10.0 y[503,40,1422] + 10.0 y[504,40,1422] + 10.0 y[505,40,1422] + 10.0 y[507,40,1422] + 10.0 y[510,40,1422] + 10.0 y[511,40,1422] + 10.0 y[513,40,1422] + 10.0 y[515,40,1422] + y[516,40,1422] + y[517,40,1422] + y[518,40,1422] + y[519,40,1422] + y[520,40,1422] + y[521,40,1422] + y[522,40,1422] + y[523,40,1422] + y[524,40,1422] + y[525,40,1422] + y[527,40,1422] + y[528,40,1422] + y[529,40,1422] + y[531,40,1422] + 10.0 y[532,40,1422] + 10.0 y[535,40,1422] + 10.0 y[536,40,1422] + 10.0 y[537,40,1422] + 10.0 y[539,40,1422] + 10.0 y[544,40,1422] + 10.0 y[545,40,1422] + 10.0 y[547,40,1422] + y[549,40,1422] + 4.0 y[550,40,1422] + y[551,40,1422] + y[552,40,1422] + y[553,40,1422] + y[554,40,1422] + y[555,40,1422] + y[567,40,1422] + y[568,40,1422] + y[569,40,1422] + y[570,40,1422] + y[571,40,1422] + y[572,40,1422] + y[573,40,1422] + y[574,40,1422] + y[575,40,1422] + y[576,40,1422] + y[577,40,1422] + y[578,40,1422] + y[579,40,1422] + y[580,40,1422] + y[581,40,1422] + y[582,40,1422] + y[583,40,1422] + y[584,40,1422] + y[585,40,1422] + y[586,40,1422] + y[587,40,1422] + y[588,40,1422] + y[589,40,1422] + y[590,40,1422] + y[591,40,1422] + y[592,40,1422] + y[593,40,1422] + y[594,40,1422] + y[595,40,1422] < 52.0\n"
     ]
    }
   ],
   "source": [
    "con = m.getConstrByName('R59022')\n",
    "print(f\"{m.getRow(con)} {con.Sense} {con.RHS}\")"
   ]
  },
  {
   "cell_type": "code",
   "execution_count": 49,
   "id": "437fdca3-ce10-4d34-bf35-05924ee4b594",
   "metadata": {},
   "outputs": [
    {
     "name": "stdout",
     "output_type": "stream",
     "text": [
      "[(1.0, (71, 40, 1422)), (1.0, (72, 40, 1422)), (10.0, (205, 40, 1422)), (1.0, (252, 40, 1422)), (1.0, (269, 40, 1422)), (1.0, (294, 40, 1422)), (1.0, (306, 40, 1422)), (1.0, (351, 40, 1422)), (1.0, (352, 40, 1422)), (8.0, (357, 40, 1422)), (1.0, (367, 40, 1422)), (1.0, (374, 40, 1422)), (1.0, (375, 40, 1422)), (1.0, (376, 40, 1422)), (1.0, (377, 40, 1422)), (1.0, (378, 40, 1422)), (1.0, (386, 40, 1422)), (10.0, (394, 40, 1422)), (10.0, (402, 40, 1422)), (10.0, (406, 40, 1422)), (10.0, (407, 40, 1422)), (10.0, (408, 40, 1422)), (10.0, (409, 40, 1422)), (1.0, (433, 40, 1422)), (1.0, (440, 40, 1422)), (1.0, (442, 40, 1422)), (1.0, (443, 40, 1422)), (1.0, (445, 40, 1422)), (10.0, (448, 40, 1422)), (10.0, (450, 40, 1422)), (10.0, (451, 40, 1422)), (10.0, (452, 40, 1422)), (10.0, (453, 40, 1422)), (10.0, (454, 40, 1422)), (10.0, (455, 40, 1422)), (10.0, (456, 40, 1422)), (10.0, (458, 40, 1422)), (10.0, (459, 40, 1422)), (10.0, (460, 40, 1422)), (10.0, (462, 40, 1422)), (10.0, (463, 40, 1422)), (1.0, (472, 40, 1422)), (1.0, (473, 40, 1422)), (1.0, (474, 40, 1422)), (1.0, (475, 40, 1422)), (1.0, (476, 40, 1422)), (1.0, (477, 40, 1422)), (1.0, (478, 40, 1422)), (1.0, (479, 40, 1422)), (1.0, (480, 40, 1422)), (8.0, (481, 40, 1422)), (1.0, (482, 40, 1422)), (1.0, (483, 40, 1422)), (1.0, (484, 40, 1422)), (1.0, (485, 40, 1422)), (1.0, (486, 40, 1422)), (1.0, (487, 40, 1422)), (1.0, (488, 40, 1422)), (1.0, (489, 40, 1422)), (1.0, (490, 40, 1422)), (1.0, (491, 40, 1422)), (1.0, (492, 40, 1422)), (1.0, (493, 40, 1422)), (1.0, (494, 40, 1422)), (1.0, (495, 40, 1422)), (1.0, (496, 40, 1422)), (1.0, (497, 40, 1422)), (1.0, (499, 40, 1422)), (10.0, (501, 40, 1422)), (10.0, (502, 40, 1422)), (10.0, (503, 40, 1422)), (10.0, (504, 40, 1422)), (10.0, (505, 40, 1422)), (10.0, (507, 40, 1422)), (10.0, (510, 40, 1422)), (10.0, (511, 40, 1422)), (10.0, (513, 40, 1422)), (10.0, (515, 40, 1422)), (1.0, (516, 40, 1422)), (1.0, (517, 40, 1422)), (1.0, (518, 40, 1422)), (1.0, (519, 40, 1422)), (1.0, (520, 40, 1422)), (1.0, (521, 40, 1422)), (1.0, (522, 40, 1422)), (1.0, (523, 40, 1422)), (1.0, (524, 40, 1422)), (1.0, (525, 40, 1422)), (1.0, (527, 40, 1422)), (1.0, (528, 40, 1422)), (1.0, (529, 40, 1422)), (1.0, (531, 40, 1422)), (10.0, (532, 40, 1422)), (10.0, (535, 40, 1422)), (10.0, (536, 40, 1422)), (10.0, (537, 40, 1422)), (10.0, (539, 40, 1422)), (10.0, (544, 40, 1422)), (10.0, (545, 40, 1422)), (10.0, (547, 40, 1422)), (1.0, (549, 40, 1422)), (4.0, (550, 40, 1422)), (1.0, (551, 40, 1422)), (1.0, (552, 40, 1422)), (1.0, (553, 40, 1422)), (1.0, (554, 40, 1422)), (1.0, (555, 40, 1422)), (1.0, (567, 40, 1422)), (1.0, (568, 40, 1422)), (1.0, (569, 40, 1422)), (1.0, (570, 40, 1422)), (1.0, (571, 40, 1422)), (1.0, (572, 40, 1422)), (1.0, (573, 40, 1422)), (1.0, (574, 40, 1422)), (1.0, (575, 40, 1422)), (1.0, (576, 40, 1422)), (1.0, (577, 40, 1422)), (1.0, (578, 40, 1422)), (1.0, (579, 40, 1422)), (1.0, (580, 40, 1422)), (1.0, (581, 40, 1422)), (1.0, (582, 40, 1422)), (1.0, (583, 40, 1422)), (1.0, (584, 40, 1422)), (1.0, (585, 40, 1422)), (1.0, (586, 40, 1422)), (1.0, (587, 40, 1422)), (1.0, (588, 40, 1422)), (1.0, (589, 40, 1422)), (1.0, (590, 40, 1422)), (1.0, (591, 40, 1422)), (1.0, (592, 40, 1422)), (1.0, (593, 40, 1422)), (1.0, (594, 40, 1422)), (1.0, (595, 40, 1422))]\n"
     ]
    }
   ],
   "source": [
    "import re\n",
    "\n",
    "# Example string\n",
    "input_str = \"y[71,40,1422] + y[72,40,1422] + 10.0 y[205,40,1422] + y[252,40,1422] + y[269,40,1422] + y[294,40,1422] + y[306,40,1422] + y[351,40,1422] + y[352,40,1422] + 8.0 y[357,40,1422] + y[367,40,1422] + y[374,40,1422] + y[375,40,1422] + y[376,40,1422] + y[377,40,1422] + y[378,40,1422] + y[386,40,1422] + 10.0 y[394,40,1422] + 10.0 y[402,40,1422] + 10.0 y[406,40,1422] + 10.0 y[407,40,1422] + 10.0 y[408,40,1422] + 10.0 y[409,40,1422] + y[433,40,1422] + y[440,40,1422] + y[442,40,1422] + y[443,40,1422] + y[445,40,1422] + 10.0 y[448,40,1422] + 10.0 y[450,40,1422] + 10.0 y[451,40,1422] + 10.0 y[452,40,1422] + 10.0 y[453,40,1422] + 10.0 y[454,40,1422] + 10.0 y[455,40,1422] + 10.0 y[456,40,1422] + 10.0 y[458,40,1422] + 10.0 y[459,40,1422] + 10.0 y[460,40,1422] + 10.0 y[462,40,1422] + 10.0 y[463,40,1422] + y[472,40,1422] + y[473,40,1422] + y[474,40,1422] + y[475,40,1422] + y[476,40,1422] + y[477,40,1422] + y[478,40,1422] + y[479,40,1422] + y[480,40,1422] + 8.0 y[481,40,1422] + y[482,40,1422] + y[483,40,1422] + y[484,40,1422] + y[485,40,1422] + y[486,40,1422] + y[487,40,1422] + y[488,40,1422] + y[489,40,1422] + y[490,40,1422] + y[491,40,1422] + y[492,40,1422] + y[493,40,1422] + y[494,40,1422] + y[495,40,1422] + y[496,40,1422] + y[497,40,1422] + y[499,40,1422] + 10.0 y[501,40,1422] + 10.0 y[502,40,1422] + 10.0 y[503,40,1422] + 10.0 y[504,40,1422] + 10.0 y[505,40,1422] + 10.0 y[507,40,1422] + 10.0 y[510,40,1422] + 10.0 y[511,40,1422] + 10.0 y[513,40,1422] + 10.0 y[515,40,1422] + y[516,40,1422] + y[517,40,1422] + y[518,40,1422] + y[519,40,1422] + y[520,40,1422] + y[521,40,1422] + y[522,40,1422] + y[523,40,1422] + y[524,40,1422] + y[525,40,1422] + y[527,40,1422] + y[528,40,1422] + y[529,40,1422] + y[531,40,1422] + 10.0 y[532,40,1422] + 10.0 y[535,40,1422] + 10.0 y[536,40,1422] + 10.0 y[537,40,1422] + 10.0 y[539,40,1422] + 10.0 y[544,40,1422] + 10.0 y[545,40,1422] + 10.0 y[547,40,1422] + y[549,40,1422] + 4.0 y[550,40,1422] + y[551,40,1422] + y[552,40,1422] + y[553,40,1422] + y[554,40,1422] + y[555,40,1422] + y[567,40,1422] + y[568,40,1422] + y[569,40,1422] + y[570,40,1422] + y[571,40,1422] + y[572,40,1422] + y[573,40,1422] + y[574,40,1422] + y[575,40,1422] + y[576,40,1422] + y[577,40,1422] + y[578,40,1422] + y[579,40,1422] + y[580,40,1422] + y[581,40,1422] + y[582,40,1422] + y[583,40,1422] + y[584,40,1422] + y[585,40,1422] + y[586,40,1422] + y[587,40,1422] + y[588,40,1422] + y[589,40,1422] + y[590,40,1422] + y[591,40,1422] + y[592,40,1422] + y[593,40,1422] + y[594,40,1422] + y[595,40,1422]\"# Regex pattern to match the variable and its optional coefficient\n",
    "pattern = re.compile(r'(?:(\\d*\\.\\d+|\\d+)\\s*)?y\\[(\\d+),(\\d+),(\\d+)\\]')\n",
    "\n",
    "# Find matches\n",
    "matches = pattern.findall(input_str)\n",
    "\n",
    "# Extract and convert matches to tuples with coefficient\n",
    "result = [(float(match[0]) if match[0] else 1.0, (int(match[1]), int(match[2]), int(match[3]))) for match in matches]\n",
    "\n",
    "print(result)\n"
   ]
  },
  {
   "cell_type": "code",
   "execution_count": 52,
   "id": "762cfb63-a746-4a92-9b3f-f3978edaf936",
   "metadata": {},
   "outputs": [],
   "source": [
    "summi = 0\n",
    "for r in result:\n",
    "    summi += r[0]* y[r[1]].Start"
   ]
  },
  {
   "cell_type": "code",
   "execution_count": 53,
   "id": "6a9e6ef9-cd8e-4e9f-b50a-2f3e54144ec3",
   "metadata": {},
   "outputs": [
    {
     "data": {
      "text/plain": [
       "61.0"
      ]
     },
     "execution_count": 53,
     "metadata": {},
     "output_type": "execute_result"
    }
   ],
   "source": [
    "summi"
   ]
  },
  {
   "cell_type": "code",
   "execution_count": 137,
   "id": "a12b95a8-40e2-4c48-a939-ae3e83fb2203",
   "metadata": {},
   "outputs": [],
   "source": [
    "m.write(\"myfile.lp\")"
   ]
  },
  {
   "cell_type": "code",
   "execution_count": 54,
   "id": "e8924d22-f806-45c7-91f8-e43e1923a45c",
   "metadata": {},
   "outputs": [
    {
     "name": "stdout",
     "output_type": "stream",
     "text": [
      "Gurobi Optimizer version 11.0.2 build v11.0.2rc0 (linux64 - \"Ubuntu 22.04.4 LTS\")\n",
      "\n",
      "CPU model: AMD EPYC 7402 24-Core Processor, instruction set [SSE2|AVX|AVX2]\n",
      "Thread count: 48 physical cores, 96 logical processors, using up to 32 threads\n",
      "\n",
      "Optimize a model with 5787222 rows, 1112326 columns and 13191972 nonzeros\n",
      "Model fingerprint: 0xef8847f4\n",
      "Variable types: 0 continuous, 1112326 integer (1112326 binary)\n",
      "Coefficient statistics:\n",
      "  Matrix range     [1e+00, 1e+05]\n",
      "  Objective range  [4e-01, 2e+07]\n",
      "  Bounds range     [1e+00, 1e+00]\n",
      "  RHS range        [1e+00, 2e+06]\n",
      "\n",
      "User MIP start did not produce a new incumbent solution\n",
      "User MIP start violates constraint R59022 by 9.000000000\n",
      "\n",
      "Found heuristic solution: objective 7.389099e+07\n",
      "Presolve removed 116730 rows and 753 columns\n",
      "Presolve time: 1.44s\n",
      "\n",
      "Explored 0 nodes (0 simplex iterations) in 3.08 seconds (3.77 work units)\n",
      "Thread count was 1 (of 96 available processors)\n",
      "\n",
      "Solution count 1: 7.3891e+07 \n",
      "\n",
      "Solve interrupted\n",
      "Best objective 7.389099395705e+07, best bound -, gap -\n"
     ]
    }
   ],
   "source": [
    "m.optimize()"
   ]
  },
  {
   "cell_type": "code",
   "execution_count": null,
   "id": "5593fd79-81b7-413b-ba52-6809ebab6854",
   "metadata": {},
   "outputs": [],
   "source": [
    "#def create_new_configuration_df(m, carbon_intensity_per_timeslot):\n",
    "xl = []\n",
    "yl = []\n",
    "for v in m.getVars():\n",
    "    if v.VarName.startswith('x'):\n",
    "        if v.x > 0:\n",
    "            xl.append(split_line(v.VarName))\n",
    "    if v.VarName.startswith('y'):\n",
    "        if v.x > 0:\n",
    "            yl.append(split_line(v.VarName))\n",
    "data = pd.DataFrame(xl)\n",
    "data.columns = ['job', 'machine', 'time_slot']\n",
    "data['carbon_intensity_new'] = data['time_slot'].apply(lambda x: carbon_intensity_per_timeslot[int(x)])\n",
    "#return data\n",
    "    "
   ]
  },
  {
   "cell_type": "code",
   "execution_count": null,
   "id": "cdea3fef-bff6-47ca-a0fa-9e7074d89a56",
   "metadata": {},
   "outputs": [],
   "source": [
    "def reverse_operation(dd, timeslot_factor, start_time):\n",
    "    timedelta = pd.Timedelta(seconds=dd * timeslot_factor)\n",
    "    new_date = start_time + timedelta\n",
    "    return new_date\n",
    "    \n",
    "def split_line(line):\n",
    "    parts = line.replace('[', ',').replace(']', '').split(',')\n",
    "    name = parts[0].strip()\n",
    "    numbers = [int(part.strip()) for part in parts[1:]]\n",
    "    return  numbers"
   ]
  },
  {
   "cell_type": "code",
   "execution_count": null,
   "id": "a6204a2d-c32e-48ce-bb81-ca2f52458ab6",
   "metadata": {},
   "outputs": [],
   "source": [
    "def calculateEnergyConsumption1(runtime_seconds, requested_cores):\n",
    "    # result in KWh\n",
    "    # Assumptions\n",
    "    PUE = 1.6 # Power Usage Efficiency of the data center\n",
    "    P_m = 0.3725 # Memory power draw,Watts/GB  \n",
    "    P_c =  15.8  # In Watts Assuming Core-i5-10600K  ; value taken from http://calculator.green-algorithms.org/\n",
    "    u_c = 0.50 # core usage factor \n",
    "\n",
    "    n_c = 'average load over runtime'\n",
    "    t_hour = runtime_seconds / 3600\n",
    "    def ceil_to_power_of_2(num):\n",
    "        return int(2 ** np.ceil(np.log2(num)))\n",
    "    #n_m = ceil_to_power_of_2(row[\"tool_requested_memory\"])/1024    # size of memory avaialbe in GB \n",
    "    power = t_hour * (n_c * P_c ) * PUE * 0.001\n",
    "    return power"
   ]
  },
  {
   "cell_type": "code",
   "execution_count": null,
   "id": "dd284fe9-a97a-479a-9577-afbd7bd522a8",
   "metadata": {},
   "outputs": [],
   "source": [
    "configuration = create_new_configuration_df(m, carbon_intensity_per_timeslot)\n",
    "configuration.to_csv(op.join(configuration_dir, 'jan_2021.tsv'), sep='\\t')\n",
    "data = pd.concat([configuration, sub], axis = 1)\n",
    "data = data.dropna()\n",
    "data = data.reset_index()\n",
    "data['power_draw'] = [calculateEnergyConsumption1(data['tool_runtime_in_seconds'][i], data['tool_requested_cores'][i]) for i in range(data.shape[0])]\n",
    "data['carbon_intensity_old'] = data['arrival_time'].apply(lambda x: carbon_intensity_per_timeslot[int(x)])\n",
    "\n"
   ]
  },
  {
   "cell_type": "code",
   "execution_count": null,
   "id": "2dc6787f-bc0a-4e0a-a525-8e45083bcfba",
   "metadata": {},
   "outputs": [],
   "source": [
    "configuration"
   ]
  },
  {
   "cell_type": "code",
   "execution_count": null,
   "id": "64ed472e-1cc4-4b37-9435-5de8b150e75a",
   "metadata": {},
   "outputs": [],
   "source": [
    "data['carbon_emission_orig'] = data['power_draw']*data['carbon_intensity_old']\n",
    "data['carbon_emission'] = data['power_draw']*data['carbon_intensity']\n"
   ]
  },
  {
   "cell_type": "code",
   "execution_count": null,
   "id": "7b39dcce-8613-42bc-b200-bf10910f0018",
   "metadata": {},
   "outputs": [],
   "source": [
    "np.sum(data['carbon_emission'])/1000"
   ]
  },
  {
   "cell_type": "code",
   "execution_count": null,
   "id": "f63c327c-32a0-4e45-be5c-260875a0fc72",
   "metadata": {},
   "outputs": [],
   "source": [
    "np.sum(data['carbon_emission_orig'])/1000"
   ]
  },
  {
   "cell_type": "code",
   "execution_count": null,
   "id": "319cccc6-cada-4311-858b-703bad8b7ae5",
   "metadata": {},
   "outputs": [],
   "source": [
    "\n"
   ]
  }
 ],
 "metadata": {
  "kernelspec": {
   "display_name": "Python 3 (ipykernel)",
   "language": "python",
   "name": "python3"
  },
  "language_info": {
   "codemirror_mode": {
    "name": "ipython",
    "version": 3
   },
   "file_extension": ".py",
   "mimetype": "text/x-python",
   "name": "python",
   "nbconvert_exporter": "python",
   "pygments_lexer": "ipython3",
   "version": "3.12.4"
  }
 },
 "nbformat": 4,
 "nbformat_minor": 5
}
